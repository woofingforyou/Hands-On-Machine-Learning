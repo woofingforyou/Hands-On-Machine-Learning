{
 "cells": [
  {
   "cell_type": "code",
   "execution_count": 1,
   "id": "8ff90137",
   "metadata": {},
   "outputs": [],
   "source": [
    "import numpy as np"
   ]
  },
  {
   "cell_type": "markdown",
   "id": "22d42d48",
   "metadata": {},
   "source": [
    "## 1. Stwórz 1D tablicę NumPy zawierającą liczby od 10 do 50 co 5."
   ]
  },
  {
   "cell_type": "code",
   "execution_count": 2,
   "id": "8363fd37",
   "metadata": {},
   "outputs": [
    {
     "data": {
      "text/plain": [
       "array([10, 15, 20, 25, 30, 35, 40, 45, 50])"
      ]
     },
     "execution_count": 2,
     "metadata": {},
     "output_type": "execute_result"
    }
   ],
   "source": [
    "np.arange(10,51,5)"
   ]
  },
  {
   "cell_type": "markdown",
   "id": "e23e102c",
   "metadata": {},
   "source": [
    "## 2. Zmień kształt tablicy `[1, 2, 3, 4, 5, 6]` na tablicę 2x3."
   ]
  },
  {
   "cell_type": "code",
   "execution_count": 4,
   "id": "43c2006e",
   "metadata": {},
   "outputs": [
    {
     "data": {
      "text/plain": [
       "array([[1, 2, 3],\n",
       "       [4, 5, 6]])"
      ]
     },
     "execution_count": 4,
     "metadata": {},
     "output_type": "execute_result"
    }
   ],
   "source": [
    "np.array([1,2,3,4,5,6]).reshape(2,3)"
   ]
  },
  {
   "cell_type": "markdown",
   "id": "09b970d9",
   "metadata": {},
   "source": [
    "## 3. Stwórz macierz jednostkową o wymiarach 5x5."
   ]
  },
  {
   "cell_type": "code",
   "execution_count": 8,
   "id": "3ca7d960",
   "metadata": {},
   "outputs": [
    {
     "data": {
      "text/plain": [
       "array([[1., 0., 0., 0., 0.],\n",
       "       [0., 1., 0., 0., 0.],\n",
       "       [0., 0., 1., 0., 0.],\n",
       "       [0., 0., 0., 1., 0.],\n",
       "       [0., 0., 0., 0., 1.]])"
      ]
     },
     "execution_count": 8,
     "metadata": {},
     "output_type": "execute_result"
    }
   ],
   "source": [
    "np.identity(5)"
   ]
  },
  {
   "cell_type": "markdown",
   "id": "7d299c87",
   "metadata": {},
   "source": [
    "## 4. Oblicz sumę elementów w każdej kolumnie poniższej macierzy:\n",
    "```python\n",
    "a = np.array([[1, 2], [3, 4], [5, 6]])\n",
    "```"
   ]
  },
  {
   "cell_type": "code",
   "execution_count": 12,
   "id": "f22c85ad",
   "metadata": {},
   "outputs": [
    {
     "data": {
      "text/plain": [
       "array([ 3,  7, 11])"
      ]
     },
     "execution_count": 12,
     "metadata": {},
     "output_type": "execute_result"
    }
   ],
   "source": [
    "a = np.array([[1, 2], [3, 4], [5, 6]])\n",
    "a.sum(axis = 1)"
   ]
  },
  {
   "cell_type": "markdown",
   "id": "655397d8",
   "metadata": {},
   "source": [
    "## 5. Zrób *broadcasting* i dodaj do każdej kolumny tej macierzy wartość `[10, 100]`.\n",
    "```python\n",
    "a = np.array([[1, 2], [3, 4], [5, 6]])\n",
    "```"
   ]
  },
  {
   "cell_type": "code",
   "execution_count": 15,
   "id": "8798c80e",
   "metadata": {},
   "outputs": [
    {
     "data": {
      "text/plain": [
       "array([[ 11, 102],\n",
       "       [ 13, 104],\n",
       "       [ 15, 106]])"
      ]
     },
     "execution_count": 15,
     "metadata": {},
     "output_type": "execute_result"
    }
   ],
   "source": [
    "a = np.array([[1,2],[3,4],[5,6]])\n",
    "a + np.array([10,100])"
   ]
  },
  {
   "cell_type": "markdown",
   "id": "f76a5ff8",
   "metadata": {},
   "source": [
    "## 6. Oblicz iloczyn macierzy `A` i `B`.\n",
    "```python\n",
    "A = np.array([[1, 2], [3, 4]])\n",
    "B = np.array([[5, 6], [7, 8]])\n",
    "```"
   ]
  },
  {
   "cell_type": "code",
   "execution_count": 18,
   "id": "a85ec214",
   "metadata": {},
   "outputs": [
    {
     "name": "stdout",
     "output_type": "stream",
     "text": [
      "[[ 5 12]\n",
      " [21 32]]\n",
      "[[19 22]\n",
      " [43 50]]\n"
     ]
    }
   ],
   "source": [
    "A = np.array([[1, 2], [3, 4]])\n",
    "B = np.array([[5, 6], [7, 8]])\n",
    "print(A * B)\n",
    "print(A @ B)"
   ]
  },
  {
   "cell_type": "markdown",
   "id": "9d9a0de4",
   "metadata": {},
   "source": [
    "## 7. Wygeneruj losową tablicę o rozmiarze 4x4 z wartościami z przedziału [0, 1)."
   ]
  },
  {
   "cell_type": "code",
   "execution_count": 31,
   "id": "58684390",
   "metadata": {},
   "outputs": [
    {
     "data": {
      "text/plain": [
       "array([[0, 1, 1, 0],\n",
       "       [1, 0, 0, 0],\n",
       "       [0, 0, 1, 1],\n",
       "       [1, 1, 0, 0]], dtype=int32)"
      ]
     },
     "execution_count": 31,
     "metadata": {},
     "output_type": "execute_result"
    }
   ],
   "source": [
    "np.random.randint(2, size = 16).reshape(4,4)"
   ]
  },
  {
   "cell_type": "markdown",
   "id": "51b41fcf",
   "metadata": {},
   "source": [
    "## 8. Znajdź maksymalną i minimalną wartość w poniższej tablicy.\n",
    "```python\n",
    "arr = np.array([3, 1, 4, 1, 5, 9])\n",
    "```"
   ]
  },
  {
   "cell_type": "code",
   "execution_count": 33,
   "id": "f4384337",
   "metadata": {},
   "outputs": [
    {
     "name": "stdout",
     "output_type": "stream",
     "text": [
      "9\n",
      "1\n"
     ]
    }
   ],
   "source": [
    "arr = np.array([3,1,4,1,5,9])\n",
    "print(np.max(arr))\n",
    "print(np.min(arr))"
   ]
  },
  {
   "cell_type": "markdown",
   "id": "a0079a87",
   "metadata": {},
   "source": [
    "\n",
    "## 9. Sprawdź, które elementy w poniższej tablicy są większe niż 3.\n",
    "```python\n",
    "arr = np.array([2, 4, 3, 5, 1])\n",
    "```"
   ]
  },
  {
   "cell_type": "code",
   "execution_count": 37,
   "id": "65ef1916",
   "metadata": {},
   "outputs": [
    {
     "data": {
      "text/plain": [
       "array([False,  True, False,  True, False])"
      ]
     },
     "execution_count": 37,
     "metadata": {},
     "output_type": "execute_result"
    }
   ],
   "source": [
    "arr = np.array([2,4,3,5,1])\n",
    "arr > 3"
   ]
  },
  {
   "cell_type": "markdown",
   "id": "c25bbc32",
   "metadata": {},
   "source": [
    "## 10. Zmień typ danych tablicy z `int` na `float`.\n",
    "```python\n",
    "arr = np.array([1, 2, 3])\n",
    "```"
   ]
  },
  {
   "cell_type": "code",
   "execution_count": 47,
   "id": "162dd06d",
   "metadata": {},
   "outputs": [
    {
     "data": {
      "text/plain": [
       "array([1., 2., 3.])"
      ]
     },
     "execution_count": 47,
     "metadata": {},
     "output_type": "execute_result"
    }
   ],
   "source": [
    "arr = np.array([1,2,3])\n",
    "arr.astype(float)"
   ]
  },
  {
   "cell_type": "markdown",
   "id": "68b11e1d",
   "metadata": {},
   "source": [
    "## 11. Wyciągnij podtablicę z wiersza 2 i kolumn 1–2 z poniższej macierzy.\n",
    "```python\n",
    "a = np.arange(20).reshape(4, 5)\n",
    "```"
   ]
  },
  {
   "cell_type": "code",
   "execution_count": 51,
   "id": "7806e744",
   "metadata": {},
   "outputs": [
    {
     "data": {
      "text/plain": [
       "array([11, 12])"
      ]
     },
     "execution_count": 51,
     "metadata": {},
     "output_type": "execute_result"
    }
   ],
   "source": [
    "a = np.arange(20).reshape(4,5)\n",
    "a[2,1:3]"
   ]
  },
  {
   "cell_type": "markdown",
   "id": "4a139311",
   "metadata": {},
   "source": [
    "## 12. Oblicz średnią, medianę i wariancję poniższej tablicy.\n",
    "```python\n",
    "arr = np.array([1, 2, 3, 4, 5])\n",
    "```"
   ]
  },
  {
   "cell_type": "code",
   "execution_count": 54,
   "id": "ad64c47a",
   "metadata": {},
   "outputs": [
    {
     "name": "stdout",
     "output_type": "stream",
     "text": [
      "3.0\n",
      "3.0\n",
      "2.0\n"
     ]
    }
   ],
   "source": [
    "arr = np.array([1,2,3,4,5])\n",
    "print(arr.mean())\n",
    "print(np.median(arr))\n",
    "print(arr.var())"
   ]
  },
  {
   "cell_type": "markdown",
   "id": "5227a0b8",
   "metadata": {},
   "source": [
    "## 13. Wygeneruj tablicę 10 liczb całkowitych z przedziału [0, 100), ale tylko parzystych."
   ]
  },
  {
   "cell_type": "code",
   "execution_count": 55,
   "id": "a0970c04",
   "metadata": {},
   "outputs": [
    {
     "data": {
      "text/plain": [
       "array([  0,   2,   4,   6,   8,  10,  12,  14,  16,  18,  20,  22,  24,\n",
       "        26,  28,  30,  32,  34,  36,  38,  40,  42,  44,  46,  48,  50,\n",
       "        52,  54,  56,  58,  60,  62,  64,  66,  68,  70,  72,  74,  76,\n",
       "        78,  80,  82,  84,  86,  88,  90,  92,  94,  96,  98, 100])"
      ]
     },
     "execution_count": 55,
     "metadata": {},
     "output_type": "execute_result"
    }
   ],
   "source": [
    "np.arange(0,101,2)"
   ]
  },
  {
   "cell_type": "markdown",
   "id": "a1b4b8a8",
   "metadata": {},
   "source": [
    "## 14. Ustaw wszystkie elementy większe niż 50 na 50.\n",
    "```python\n",
    "arr = np.array([34, 67, 89, 23, 50])\n",
    "```"
   ]
  },
  {
   "cell_type": "code",
   "execution_count": 58,
   "id": "0aba7628",
   "metadata": {},
   "outputs": [
    {
     "data": {
      "text/plain": [
       "array([34, 50, 50, 23, 50])"
      ]
     },
     "execution_count": 58,
     "metadata": {},
     "output_type": "execute_result"
    }
   ],
   "source": [
    "arr = np.array([34,67,89,23,50])\n",
    "arr[arr > 50] = 50\n",
    "arr"
   ]
  },
  {
   "cell_type": "markdown",
   "id": "338a2e72",
   "metadata": {},
   "source": [
    "## 15. Wylosuj ziarno `42` i wygeneruj 5 losowych liczb z rozkładu normalnego."
   ]
  },
  {
   "cell_type": "code",
   "execution_count": 61,
   "id": "0182097b",
   "metadata": {},
   "outputs": [
    {
     "data": {
      "text/plain": [
       "array([ 0.49671415, -0.1382643 ,  0.64768854,  1.52302986, -0.23415337])"
      ]
     },
     "execution_count": 61,
     "metadata": {},
     "output_type": "execute_result"
    }
   ],
   "source": [
    "np.random.seed(42)\n",
    "np.random.randn(5)"
   ]
  },
  {
   "cell_type": "markdown",
   "id": "5e547208",
   "metadata": {},
   "source": [
    "## 16. Znormalizuj dane tak, aby miały średnią 0 i odchylenie standardowe 1.\n",
    "```python\n",
    "data = np.array([10, 12, 14, 16, 18])\n",
    "```"
   ]
  },
  {
   "cell_type": "code",
   "execution_count": 65,
   "id": "190e3c25",
   "metadata": {},
   "outputs": [
    {
     "data": {
      "text/plain": [
       "array([-1.41421356, -0.70710678,  0.        ,  0.70710678,  1.41421356])"
      ]
     },
     "execution_count": 65,
     "metadata": {},
     "output_type": "execute_result"
    }
   ],
   "source": [
    "data = np.array([10,12,14,16,18])\n",
    "(data - data.mean())/data.std()"
   ]
  },
  {
   "cell_type": "markdown",
   "id": "3bd6d4bd",
   "metadata": {},
   "source": [
    "## 17. Użyj `np.dot` i `@` do mnożenia dwóch wektorów i pokaż, że wynik jest ten sam.\n",
    "```python\n",
    "a = np.array([1, 2])\n",
    "b = np.array([3, 4])\n",
    "```"
   ]
  },
  {
   "cell_type": "code",
   "execution_count": 66,
   "id": "eb7ab1bc",
   "metadata": {},
   "outputs": [
    {
     "name": "stdout",
     "output_type": "stream",
     "text": [
      "11\n",
      "11\n"
     ]
    }
   ],
   "source": [
    "a = np.array([1, 2])\n",
    "b = np.array([3, 4])\n",
    "print(np.dot(a,b))\n",
    "print(a @ b)"
   ]
  },
  {
   "cell_type": "markdown",
   "id": "d1b898ae",
   "metadata": {},
   "source": [
    "## 18. Wytłumacz, czym różni się `np.copy()` od przypisania `b = a`.\n",
    "*(Wpisz odpowiedź jako komentarz)*"
   ]
  },
  {
   "cell_type": "code",
   "execution_count": null,
   "id": "e53ca667",
   "metadata": {},
   "outputs": [],
   "source": []
  },
  {
   "cell_type": "markdown",
   "id": "b97242d1",
   "metadata": {},
   "source": [
    "## 19. Oblicz iloczyn skalarny dwóch wektorów.\n",
    "```python\n",
    "u = np.array([1, 2, 3])\n",
    "v = np.array([4, 5, 6])\n",
    "```"
   ]
  },
  {
   "cell_type": "code",
   "execution_count": null,
   "id": "01d445dc",
   "metadata": {},
   "outputs": [],
   "source": []
  },
  {
   "cell_type": "markdown",
   "id": "734f6181",
   "metadata": {},
   "source": [
    "## 20. Wytłumacz na czym polega `broadcasting` i podaj przykład jego działania.\n",
    "*(Wpisz odpowiedź jako komentarz + kod)*"
   ]
  },
  {
   "cell_type": "code",
   "execution_count": null,
   "id": "5bff4f38",
   "metadata": {},
   "outputs": [],
   "source": []
  }
 ],
 "metadata": {
  "kernelspec": {
   "display_name": "Python 3 (ipykernel)",
   "language": "python",
   "name": "python3"
  },
  "language_info": {
   "codemirror_mode": {
    "name": "ipython",
    "version": 3
   },
   "file_extension": ".py",
   "mimetype": "text/x-python",
   "name": "python",
   "nbconvert_exporter": "python",
   "pygments_lexer": "ipython3",
   "version": "3.13.5"
  }
 },
 "nbformat": 4,
 "nbformat_minor": 5
}
