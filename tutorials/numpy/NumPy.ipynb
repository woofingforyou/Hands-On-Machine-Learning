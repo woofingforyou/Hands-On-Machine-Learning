{
 "cells": [
  {
   "cell_type": "code",
   "execution_count": 1,
   "id": "371e5693-fc52-4b2d-a359-52a8c91faf02",
   "metadata": {},
   "outputs": [],
   "source": [
    "import numpy as np"
   ]
  },
  {
   "cell_type": "code",
   "execution_count": 2,
   "id": "13166696-1e51-47a6-a5d1-f001f6e8bed6",
   "metadata": {},
   "outputs": [],
   "source": [
    "a = np.zeros((2,3,4,5))"
   ]
  },
  {
   "cell_type": "code",
   "execution_count": 3,
   "id": "17bf5b50-ea17-496e-858c-7cb8fcf1f2e2",
   "metadata": {},
   "outputs": [
    {
     "data": {
      "text/plain": [
       "4"
      ]
     },
     "execution_count": 3,
     "metadata": {},
     "output_type": "execute_result"
    }
   ],
   "source": [
    "a.ndim"
   ]
  },
  {
   "cell_type": "code",
   "execution_count": 4,
   "id": "99e11b1e-a580-42fe-bc99-034b0ed63a24",
   "metadata": {},
   "outputs": [
    {
     "name": "stdout",
     "output_type": "stream",
     "text": [
      "[[-1 -1 -1 -1 -1]\n",
      " [-1 -1 -1 -1 -1]\n",
      " [-1 -1 -1 -1 -1]\n",
      " [-1 -1 -1 -1 -1]\n",
      " [-1 -1 -1 -1 -1]]\n"
     ]
    }
   ],
   "source": [
    "a = np.full((5,5), -1)\n",
    "print(a)"
   ]
  },
  {
   "cell_type": "code",
   "execution_count": 5,
   "id": "d4a35520-e68f-4120-a039-49102f7c2890",
   "metadata": {},
   "outputs": [
    {
     "name": "stdout",
     "output_type": "stream",
     "text": [
      "[[6.23042070e-307 4.67296746e-307 1.69121096e-306 1.20161797e-306\n",
      "  2.22523004e-307]\n",
      " [1.78020440e-306 1.42417221e-306 1.33511969e-306 1.33511018e-306\n",
      "  3.44894088e-307]\n",
      " [7.56577398e-307 1.33511562e-306 9.34582628e-307 1.11261162e-306\n",
      "  8.34441742e-308]\n",
      " [1.95821439e-306 8.01097889e-307 1.78020169e-306 7.56601165e-307\n",
      "  1.02359984e-306]\n",
      " [1.33510679e-306 2.22522597e-306 8.01097889e-307 3.27028770e-317\n",
      "  0.00000000e+000]]\n"
     ]
    }
   ],
   "source": [
    "b = np.empty((5,5))\n",
    "print(b)"
   ]
  },
  {
   "cell_type": "code",
   "execution_count": 6,
   "id": "f4ae576f-0d7c-46c2-b6ac-ada74083b069",
   "metadata": {},
   "outputs": [
    {
     "name": "stdout",
     "output_type": "stream",
     "text": [
      "[[99. 99. 99. 99. 99.]\n",
      " [99. 99. 99. 99. 99.]\n",
      " [99. 99. 99. 99. 99.]\n",
      " [99. 99. 99. 99. 99.]\n",
      " [99. 99. 99. 99. 99.]]\n"
     ]
    }
   ],
   "source": [
    "b.fill(99)\n",
    "print(b)"
   ]
  },
  {
   "cell_type": "code",
   "execution_count": 7,
   "id": "199f3a20-3478-4ded-bee4-01ebf441f080",
   "metadata": {},
   "outputs": [
    {
     "name": "stdout",
     "output_type": "stream",
     "text": [
      "[[100. 100. 100. 100. 100.]\n",
      " [100. 100. 100. 100. 100.]\n",
      " [100. 100. 100. 100. 100.]\n",
      " [100. 100. 100. 100. 100.]\n",
      " [100. 100. 100. 100. 100.]]\n"
     ]
    }
   ],
   "source": [
    "c = b - a\n",
    "print(c)"
   ]
  },
  {
   "cell_type": "code",
   "execution_count": 8,
   "id": "20095fff-48a5-430b-a445-3d8f07ce9c2f",
   "metadata": {},
   "outputs": [
    {
     "name": "stdout",
     "output_type": "stream",
     "text": [
      "a array:\n",
      "[[[ 0  1  2  3]\n",
      "  [ 4  5  6  7]\n",
      "  [ 8  9 10 11]]\n",
      "\n",
      " [[12 13 14 15]\n",
      "  [16 17 18 19]\n",
      "  [20 21 22 23]]]\n",
      "\n",
      "shape:\n",
      "(2, 3, 4)\n",
      "\n",
      "ndim:\n",
      "3\n",
      "\n",
      "dtype:\n",
      "int64\n",
      "\n",
      "size:\n",
      "24\n",
      "\n"
     ]
    }
   ],
   "source": [
    "a = np.arange(0,24)\n",
    "a = a.reshape(2,3,4)\n",
    "print(f'a array:\\n{a}\\n')\n",
    "print(f'shape:\\n{a.shape}\\n')\n",
    "print(f'ndim:\\n{a.ndim}\\n')\n",
    "print(f'dtype:\\n{a.dtype}\\n')\n",
    "print(f'size:\\n{a.size}\\n')"
   ]
  },
  {
   "cell_type": "code",
   "execution_count": 9,
   "id": "21a19cd4-cd44-4687-adaf-0651f79067f4",
   "metadata": {},
   "outputs": [
    {
     "name": "stdout",
     "output_type": "stream",
     "text": [
      "[[[ 0.  1.  2.  3.]\n",
      "  [ 4.  5.  6.  7.]\n",
      "  [ 8.  9. 10. 11.]]\n",
      "\n",
      " [[12. 13. 14. 15.]\n",
      "  [16. 17. 18. 19.]\n",
      "  [20. 21. 22. 23.]]]\n"
     ]
    }
   ],
   "source": [
    "a = a.astype('float32')\n",
    "print(a)"
   ]
  },
  {
   "cell_type": "code",
   "execution_count": 10,
   "id": "6ca9edf3-d1e6-4bfb-ae28-b7d1e19fc8ca",
   "metadata": {},
   "outputs": [],
   "source": [
    "a = a[:] * 0.2"
   ]
  },
  {
   "cell_type": "code",
   "execution_count": 11,
   "id": "33818fcb-91ec-4de4-9df0-fb537b6d41c0",
   "metadata": {},
   "outputs": [
    {
     "name": "stdout",
     "output_type": "stream",
     "text": [
      "przed round:\n",
      "\n",
      "[[[0.        0.2       0.4       0.6      ]\n",
      "  [0.8       1.        1.2       1.4      ]\n",
      "  [1.6       1.8000001 2.        2.2      ]]\n",
      "\n",
      " [[2.4       2.6000001 2.8       3.       ]\n",
      "  [3.2       3.4       3.6000001 3.8      ]\n",
      "  [4.        4.2000003 4.4       4.6      ]]]\n",
      "\n",
      "po round:\n",
      "\n",
      "[[[0.  0.2 0.4 0.6]\n",
      "  [0.8 1.  1.2 1.4]\n",
      "  [1.6 1.8 2.  2.2]]\n",
      "\n",
      " [[2.4 2.6 2.8 3. ]\n",
      "  [3.2 3.4 3.6 3.8]\n",
      "  [4.  4.2 4.4 4.6]]]\n"
     ]
    }
   ],
   "source": [
    "print('przed round:\\n')\n",
    "np.set_printoptions(precision=10)  # ← TO DODAJ TUTAJ\n",
    "print(a)\n",
    "\n",
    "a = a.round(3)\n",
    "print('\\npo round:\\n')\n",
    "print(a)\n"
   ]
  },
  {
   "cell_type": "code",
   "execution_count": 12,
   "id": "3688e10b-a0c9-424e-bac1-4a6c847091ba",
   "metadata": {},
   "outputs": [
    {
     "name": "stdout",
     "output_type": "stream",
     "text": [
      "[0.     0.3333 0.6666 0.9999 1.3332 1.6665 1.9998]\n",
      "\n",
      "\n",
      "[0.           0.3333333333 0.6666666667 1.           1.3333333333\n",
      " 1.6666666667 2.          ]\n",
      "True\n",
      "False\n"
     ]
    }
   ],
   "source": [
    "a = np.arange(0, 2, 0.3333)\n",
    "b = np.linspace(0, 2, len(a))\n",
    "print(a)\n",
    "print('\\n')\n",
    "print(b)\n",
    "print(np.allclose(a, b, rtol=1e-03, atol=1e-05))  # Porównuje z tolerancją\n",
    "print(np.array_equal(a, b))  # Porównuje ściśle\n"
   ]
  },
  {
   "cell_type": "code",
   "execution_count": 13,
   "id": "7f2870ff-4d06-4923-b460-71ee629084c5",
   "metadata": {},
   "outputs": [
    {
     "name": "stdout",
     "output_type": "stream",
     "text": [
      "[0.  0.4 0.8 1.2 1.6]\n",
      "[0.  0.4 0.8 1.2 1.6]\n",
      "True\n"
     ]
    }
   ],
   "source": [
    "a = np.arange(0,2,0.4)\n",
    "b = np.linspace(0,1.6,5)\n",
    "print(a)\n",
    "print(b)\n",
    "print(np.allclose(a,b))"
   ]
  },
  {
   "cell_type": "code",
   "execution_count": 14,
   "id": "0a075f3a-4909-4df1-9926-b847392a3c12",
   "metadata": {},
   "outputs": [
    {
     "name": "stdout",
     "output_type": "stream",
     "text": [
      "[2.5 2.8 3.1 3.4 3.7 4.  4.3 4.6 4.9 5.2 5.5 5.8]\n",
      "[2.5 2.8 3.1 3.4 3.7 4.  4.3 4.6 4.9 5.2 5.5 5.8]\n",
      "True\n",
      "\n",
      "\n",
      "[-2.  -1.5 -1.  -0.5  0.   0.5  1.   1.5  2.   2.5  3. ]\n",
      "[0.5 0.5 0.5 0.5 0.5 0.5 0.5 0.5 0.5 0.5]\n"
     ]
    }
   ],
   "source": [
    "a = np.arange(2.5, 6.1, 0.3)\n",
    "b = np.linspace(2.5, a[-1], len(a))\n",
    "print(a)\n",
    "print(b)\n",
    "print(np.allclose(a,b))\n",
    "\n",
    "print('\\n')\n",
    "\n",
    "c = np.linspace(-2,3,11)\n",
    "print(c)\n",
    "print(np.diff(c))"
   ]
  },
  {
   "cell_type": "code",
   "execution_count": 15,
   "id": "d4df4ee4-d92a-4534-a4e4-98560b3898b6",
   "metadata": {},
   "outputs": [
    {
     "data": {
      "text/plain": [
       "array([[[  0.,   1.,   2.,   3.],\n",
       "        [ 10.,  11.,  12.,  13.],\n",
       "        [ 20.,  21.,  22.,  23.]],\n",
       "\n",
       "       [[100., 101., 102., 103.],\n",
       "        [110., 111., 112., 113.],\n",
       "        [120., 121., 122., 123.]]])"
      ]
     },
     "execution_count": 15,
     "metadata": {},
     "output_type": "execute_result"
    }
   ],
   "source": [
    "def my_function(z,y,x):\n",
    "    return 100 * z + 10 * y + x\n",
    "np.fromfunction(my_function, (2, 3, 4))"
   ]
  },
  {
   "cell_type": "code",
   "execution_count": 16,
   "id": "e08c472d-5c5b-4990-ba42-427fb7b7c552",
   "metadata": {},
   "outputs": [
    {
     "name": "stdout",
     "output_type": "stream",
     "text": [
      "False\n",
      "False\n",
      "2\n",
      "64\n",
      "128\n"
     ]
    }
   ],
   "source": [
    "d = np.arange(1,65, dtype = 'int16')\n",
    "print(d.dtype == np.int8)\n",
    "print(d.dtype == 'int8')\n",
    "print(d.itemsize)\n",
    "print(d.size)\n",
    "print(d.size * d.itemsize)"
   ]
  },
  {
   "cell_type": "code",
   "execution_count": 17,
   "id": "e2e4c938-dfcb-4024-bf7c-f8876f51a232",
   "metadata": {},
   "outputs": [
    {
     "name": "stdout",
     "output_type": "stream",
     "text": [
      "[ 1  2  3  4  5  6  7  8  9 10 11 12 13 14 15 16 17 18 19 20 21 22 23 24]\n",
      "[[ 1  2  3  4  5  6  7  8  9 10 11 12]\n",
      " [13 14 15 16 17 18 19 20 21 22 23 24]]\n"
     ]
    }
   ],
   "source": [
    "g = np.arange(1,25)\n",
    "print(g)\n",
    "g.shape = (2,12)\n",
    "print(g)"
   ]
  },
  {
   "cell_type": "code",
   "execution_count": 18,
   "id": "7d356bd4-c6a7-4395-85ee-eb73bd85695a",
   "metadata": {},
   "outputs": [
    {
     "name": "stdout",
     "output_type": "stream",
     "text": [
      "[ 0  1  2  3  4  5  6  7  8  9 10 11 12 13 14 15 16 17 18 19 20 21 22 23] \n",
      "\n",
      "\n",
      " [[ 0  1  2  3  4  5]\n",
      " [ 6  7  8  9 10 11]\n",
      " [12 13 14 15 16 17]\n",
      " [18 19 20 21 22 23]]\n",
      "\n",
      "\n",
      " [[  0   1   2   3   4   5]\n",
      " [621   7   8   9  10  11]\n",
      " [ 12  13  14  15  16  17]\n",
      " [ 18  19  20  21  22  23]]\n"
     ]
    }
   ],
   "source": [
    "h = np.arange(24)\n",
    "h2 = h.reshape(4,6)\n",
    "print(h,'\\n\\n\\n',h2)\n",
    "\n",
    "h2[1,0] = 621\n",
    "print('\\n\\n',h2)"
   ]
  },
  {
   "cell_type": "code",
   "execution_count": 19,
   "id": "4716bc79-4dde-4492-955e-f0ab4640a7a9",
   "metadata": {},
   "outputs": [
    {
     "name": "stdout",
     "output_type": "stream",
     "text": [
      "[  0   1   2   3   4   5 621   7   8   9  10  11  12  13  14  15  16  17\n",
      "  18  19  20  21  22  23]\n",
      "\n",
      "\n",
      "[  0   1   2   3   4   5 621   7   8   9  10  11  12  13  14  15  16  17\n",
      "  18  19  20  21  22  99]\n",
      "\n",
      "\n",
      "[[  0   1   2   3   4   5]\n",
      " [621   7   8   9  10  11]\n",
      " [ 12  13  14  15  16  17]\n",
      " [ 18  19  20  21  22  99]]\n"
     ]
    }
   ],
   "source": [
    "h3 = h2.ravel()\n",
    "print(h3)\n",
    "print('\\n')\n",
    "h3[-1] = 99\n",
    "print(h3)\n",
    "print('\\n')\n",
    "print(h2)"
   ]
  },
  {
   "cell_type": "code",
   "execution_count": 20,
   "id": "b54a91bb-6a6f-4da5-9240-8378d790b6bf",
   "metadata": {},
   "outputs": [
    {
     "name": "stdout",
     "output_type": "stream",
     "text": [
      "[[[10 21 32 43 54]]]\n"
     ]
    }
   ],
   "source": [
    "i = np.arange(5)\n",
    "i = i + [[[10,20,30,40,50]]]\n",
    "print(i)"
   ]
  },
  {
   "cell_type": "code",
   "execution_count": 21,
   "id": "5a4e73e9-8209-4baa-bee8-471d2675a437",
   "metadata": {},
   "outputs": [
    {
     "name": "stdout",
     "output_type": "stream",
     "text": [
      "[10 21 32 43 54]\n"
     ]
    }
   ],
   "source": [
    "i = i.ravel()\n",
    "print(i)"
   ]
  },
  {
   "cell_type": "code",
   "execution_count": 22,
   "id": "a660dd34-bdb7-4194-a45d-2cd4dd1c56ce",
   "metadata": {},
   "outputs": [
    {
     "data": {
      "text/plain": [
       "False"
      ]
     },
     "execution_count": 22,
     "metadata": {},
     "output_type": "execute_result"
    }
   ],
   "source": [
    "i.shape == (2,3)"
   ]
  },
  {
   "cell_type": "code",
   "execution_count": 23,
   "id": "81254195-bbb6-4586-9f6f-02b2f0b0ffad",
   "metadata": {},
   "outputs": [
    {
     "name": "stdout",
     "output_type": "stream",
     "text": [
      "int8 [0 1 2 3 4]\n"
     ]
    }
   ],
   "source": [
    "k1 = np.arange(5, dtype = np.int8)\n",
    "print(k1.dtype, k1)"
   ]
  },
  {
   "cell_type": "code",
   "execution_count": 24,
   "id": "dc0e2e67-e3ba-4d0c-8e42-86253df57c92",
   "metadata": {},
   "outputs": [
    {
     "name": "stdout",
     "output_type": "stream",
     "text": [
      "uint8 [0 1 2 3 4]\n"
     ]
    }
   ],
   "source": [
    "k1 = np.arange(0, 5, dtype=np.uint8)\n",
    "print(k1.dtype, k1)"
   ]
  },
  {
   "cell_type": "code",
   "execution_count": 25,
   "id": "b1440cca-a48d-4433-9532-8ca27724f6b9",
   "metadata": {},
   "outputs": [
    {
     "name": "stdout",
     "output_type": "stream",
     "text": [
      "int16 [ 5  7  9 11 13]\n"
     ]
    }
   ],
   "source": [
    "k2 = k1 + np.array([5,6,7,8,9], dtype = np.int8)\n",
    "print(k2.dtype, k2)"
   ]
  },
  {
   "cell_type": "code",
   "execution_count": 26,
   "id": "33d32c90-86f0-4d96-8066-3b1ff43f4c01",
   "metadata": {},
   "outputs": [
    {
     "name": "stdout",
     "output_type": "stream",
     "text": [
      "min = 0\n",
      "max = 4\n"
     ]
    }
   ],
   "source": [
    "a = np.arange(5)\n",
    "for func in (a.min, a.max):\n",
    "    print(func.__name__, \"=\", func())"
   ]
  },
  {
   "cell_type": "code",
   "execution_count": 27,
   "id": "8ee25210-99f2-4aa4-982b-f6c2331332cf",
   "metadata": {},
   "outputs": [
    {
     "name": "stdout",
     "output_type": "stream",
     "text": [
      "oryginal:\n",
      " [[[ 0  1  2  3]\n",
      "  [ 4  5  6  7]\n",
      "  [ 8  9 10 11]]\n",
      "\n",
      " [[12 13 14 15]\n",
      "  [16 17 18 19]\n",
      "  [20 21 22 23]]] \n",
      "\n",
      "sum():\"\n",
      " 276 \n",
      "\n",
      "sum(axis = 0):\n",
      " [[12 14 16 18]\n",
      " [20 22 24 26]\n",
      " [28 30 32 34]] \n",
      "\n",
      "sum(axis = 1):\n",
      " [[12 15 18 21]\n",
      " [48 51 54 57]] \n",
      "\n",
      "sum(axis = 2):\n",
      " [[ 6 22 38]\n",
      " [54 70 86]] \n",
      "\n"
     ]
    }
   ],
   "source": [
    "c = np.arange(24).reshape(2,3,4)\n",
    "print('oryginal:\\n',c,'\\n')\n",
    "print('sum():\"\\n',c.sum(), '\\n')\n",
    "print('sum(axis = 0):\\n',c.sum(axis = 0), '\\n')\n",
    "print('sum(axis = 1):\\n',c.sum(axis = 1), '\\n')\n",
    "print('sum(axis = 2):\\n',c.sum(axis = 2), '\\n')"
   ]
  },
  {
   "cell_type": "code",
   "execution_count": 28,
   "id": "509d887a-3614-4945-8637-f0d6e128c328",
   "metadata": {},
   "outputs": [
    {
     "data": {
      "text/plain": [
       "array([[[  0,   1,   4,   9],\n",
       "        [ 16,  25,  36,  49],\n",
       "        [ 64,  81, 100, 121]],\n",
       "\n",
       "       [[144, 169, 196, 225],\n",
       "        [256, 289, 324, 361],\n",
       "        [400, 441, 484, 529]]])"
      ]
     },
     "execution_count": 28,
     "metadata": {},
     "output_type": "execute_result"
    }
   ],
   "source": [
    "np.square(c)"
   ]
  },
  {
   "cell_type": "code",
   "execution_count": 29,
   "id": "9d36ce12-fe28-4bce-8464-386a164f5867",
   "metadata": {},
   "outputs": [
    {
     "name": "stdout",
     "output_type": "stream",
     "text": [
      "[[[ 0  1  2  3]\n",
      "  [ 4  5  6  7]\n",
      "  [ 8  9 10 11]]\n",
      "\n",
      " [[12 13 14 15]\n",
      "  [16 17 18 19]\n",
      "  [20 21 22 23]]] \n",
      "\n",
      "\n",
      "[[[ 3  1]\n",
      "  [ 7  5]\n",
      "  [11  9]]\n",
      "\n",
      " [[15 13]\n",
      "  [19 17]\n",
      "  [23 21]]]\n"
     ]
    }
   ],
   "source": [
    "print(c,'\\n\\n')\n",
    "print(c[:,:,(-1,1)])"
   ]
  },
  {
   "cell_type": "code",
   "execution_count": 30,
   "id": "da24537c-3a9f-4ee8-8457-188abbaefc4e",
   "metadata": {},
   "outputs": [
    {
     "data": {
      "text/plain": [
       "array([[[ 0,  1,  2],\n",
       "        [ 3,  4,  5]],\n",
       "\n",
       "       [[ 6,  7,  8],\n",
       "        [ 9, 10, 11]],\n",
       "\n",
       "       [[12, 13, 14],\n",
       "        [15, 16, 17]],\n",
       "\n",
       "       [[18, 19, 20],\n",
       "        [21, 22, 23]]])"
      ]
     },
     "execution_count": 30,
     "metadata": {},
     "output_type": "execute_result"
    }
   ],
   "source": [
    "t = np.arange(24).reshape(4,2,3)\n",
    "t"
   ]
  },
  {
   "cell_type": "code",
   "execution_count": 31,
   "id": "605a0fe7-9965-46d1-bd08-6becab8ef813",
   "metadata": {},
   "outputs": [
    {
     "data": {
      "text/plain": [
       "array([[[ 0,  6, 12, 18],\n",
       "        [ 1,  7, 13, 19],\n",
       "        [ 2,  8, 14, 20]],\n",
       "\n",
       "       [[ 3,  9, 15, 21],\n",
       "        [ 4, 10, 16, 22],\n",
       "        [ 5, 11, 17, 23]]])"
      ]
     },
     "execution_count": 31,
     "metadata": {},
     "output_type": "execute_result"
    }
   ],
   "source": [
    "t1 = t.transpose((1,2,0))\n",
    "t1"
   ]
  },
  {
   "cell_type": "code",
   "execution_count": 32,
   "id": "fa2e4e8b-4cb3-4d72-bd24-5f561a2353a4",
   "metadata": {},
   "outputs": [
    {
     "name": "stdout",
     "output_type": "stream",
     "text": [
      "[[0 1 2 3 4]\n",
      " [5 6 7 8 9]]\n"
     ]
    },
    {
     "data": {
      "text/plain": [
       "(5, 2)"
      ]
     },
     "execution_count": 32,
     "metadata": {},
     "output_type": "execute_result"
    }
   ],
   "source": [
    "m1 = np.arange(10).reshape(2,5)\n",
    "print(m1)\n",
    "np.shape(m1.T)"
   ]
  },
  {
   "cell_type": "code",
   "execution_count": 33,
   "id": "a1de872d-7171-4c7b-b23f-040d875e0bb8",
   "metadata": {},
   "outputs": [
    {
     "data": {
      "text/plain": [
       "array([[0, 1, 2, 3, 4],\n",
       "       [5, 6, 7, 8, 9]])"
      ]
     },
     "execution_count": 33,
     "metadata": {},
     "output_type": "execute_result"
    }
   ],
   "source": [
    "n1 = np.arange(10).reshape(2,5)\n",
    "n1"
   ]
  },
  {
   "cell_type": "code",
   "execution_count": 34,
   "id": "95bc2220-a2cc-42b2-882a-4692c7b41bf8",
   "metadata": {},
   "outputs": [
    {
     "data": {
      "text/plain": [
       "array([[ 0,  1,  2],\n",
       "       [ 3,  4,  5],\n",
       "       [ 6,  7,  8],\n",
       "       [ 9, 10, 11],\n",
       "       [12, 13, 14]])"
      ]
     },
     "execution_count": 34,
     "metadata": {},
     "output_type": "execute_result"
    }
   ],
   "source": [
    "n2 = np.arange(15).reshape(5,3)\n",
    "n2"
   ]
  },
  {
   "cell_type": "code",
   "execution_count": 35,
   "id": "eec6aa4d-9ac7-4fb1-8e42-26e12fe311b6",
   "metadata": {},
   "outputs": [
    {
     "data": {
      "text/plain": [
       "array([[ 90, 100, 110],\n",
       "       [240, 275, 310]])"
      ]
     },
     "execution_count": 35,
     "metadata": {},
     "output_type": "execute_result"
    }
   ],
   "source": [
    "n1.dot(n2)"
   ]
  },
  {
   "cell_type": "code",
   "execution_count": 36,
   "id": "213627f2-5327-428b-ad4f-64f22883c90a",
   "metadata": {},
   "outputs": [
    {
     "data": {
      "text/plain": [
       "array([[ 1,  2,  3],\n",
       "       [ 5,  7, 11],\n",
       "       [21, 29, 31]])"
      ]
     },
     "execution_count": 36,
     "metadata": {},
     "output_type": "execute_result"
    }
   ],
   "source": [
    "import numpy.linalg as linalg\n",
    "\n",
    "m3 = np.array([[1,2,3],[5,7,11],[21,29,31]])\n",
    "m3"
   ]
  },
  {
   "cell_type": "code",
   "execution_count": 37,
   "id": "5b81b39f-f48d-4059-aaf1-9bdfa9699030",
   "metadata": {},
   "outputs": [
    {
     "name": "stdout",
     "output_type": "stream",
     "text": [
      "[[ 1  2  3]\n",
      " [ 5  7 11]\n",
      " [21 29 31]] \n",
      "\n",
      "\n",
      "[[-2.3181818182  0.5681818182  0.0227272727]\n",
      " [ 1.7272727273 -0.7272727273  0.0909090909]\n",
      " [-0.0454545455  0.2954545455 -0.0681818182]] \n",
      "\n",
      "\n",
      "[[ 1.0000000000e+00 -1.6653345369e-16  0.0000000000e+00]\n",
      " [ 6.3143934526e-16  1.0000000000e+00 -1.3877787808e-16]\n",
      " [ 5.2111093218e-15 -2.3869795029e-15  1.0000000000e+00]] \n",
      "\n",
      "\n"
     ]
    }
   ],
   "source": [
    "print(m3,'\\n\\n')\n",
    "m4 = linalg.inv(m3)\n",
    "print(m4,'\\n\\n')\n",
    "m5 = m3 @ m4\n",
    "print(m5,'\\n\\n')"
   ]
  },
  {
   "cell_type": "code",
   "execution_count": 41,
   "id": "26ecdeeb-a2bf-4e6a-bb2a-c1ba0ba5a930",
   "metadata": {},
   "outputs": [
    {
     "data": {
      "text/plain": [
       "array([[1., 0., 0.],\n",
       "       [0., 1., 0.],\n",
       "       [0., 0., 1.]])"
      ]
     },
     "execution_count": 41,
     "metadata": {},
     "output_type": "execute_result"
    }
   ],
   "source": [
    "np.eye(3)"
   ]
  }
 ],
 "metadata": {
  "kernelspec": {
   "display_name": "Python 3 (ipykernel)",
   "language": "python",
   "name": "python3"
  },
  "language_info": {
   "codemirror_mode": {
    "name": "ipython",
    "version": 3
   },
   "file_extension": ".py",
   "mimetype": "text/x-python",
   "name": "python",
   "nbconvert_exporter": "python",
   "pygments_lexer": "ipython3",
   "version": "3.10.11"
  }
 },
 "nbformat": 4,
 "nbformat_minor": 5
}
