{
 "cells": [
  {
   "cell_type": "code",
   "execution_count": 1,
   "id": "deab4cee-0c45-4cb8-9e1b-8eacf82a1968",
   "metadata": {},
   "outputs": [
    {
     "name": "stdout",
     "output_type": "stream",
     "text": [
      "Czas treningu: 88.60 s\n",
      "Dokładność: 0.7005\n"
     ]
    }
   ],
   "source": [
    "import pandas as pd\n",
    "import numpy as np\n",
    "import time\n",
    "from sklearn.ensemble import RandomForestClassifier\n",
    "from sklearn.model_selection import train_test_split\n",
    "from sklearn.metrics import accuracy_score\n",
    "\n",
    "# Generuj dataframe 1.5 miliona wierszy\n",
    "n_rows = 1_500_000\n",
    "np.random.seed(42)\n",
    "\n",
    "df = pd.DataFrame({\n",
    "    'feature1': np.random.randn(n_rows),\n",
    "    'feature2': np.random.randint(0, 1000, n_rows),\n",
    "    'feature3': np.random.rand(n_rows),\n",
    "    'feature4': np.random.choice(['A', 'B', 'C', 'D'], size=n_rows),\n",
    "    'feature5': np.random.choice([0, 1], size=n_rows),\n",
    "    'target': np.random.choice([0, 1], size=n_rows, p=[0.7, 0.3])\n",
    "})\n",
    "\n",
    "# Zakoduj cechy kategoryczne\n",
    "df = pd.get_dummies(df, columns=['feature4'], drop_first=True)\n",
    "\n",
    "# Podziel dane\n",
    "X = df.drop('target', axis=1)\n",
    "y = df['target']\n",
    "X_train, X_test, y_train, y_test = train_test_split(X, y, test_size=0.2, random_state=42)\n",
    "\n",
    "# Trening\n",
    "start = time.time()\n",
    "model = RandomForestClassifier(n_estimators=500, max_depth=15, n_jobs=-1)\n",
    "model.fit(X_train, y_train)\n",
    "end = time.time()\n",
    "\n",
    "# Wynik\n",
    "pred = model.predict(X_test)\n",
    "acc = accuracy_score(y_test, pred)\n",
    "\n",
    "print(f\"Czas treningu: {end - start:.2f} s\")\n",
    "print(f\"Dokładność: {acc:.4f}\")\n"
   ]
  }
 ],
 "metadata": {
  "kernelspec": {
   "display_name": "Python 3 (ipykernel)",
   "language": "python",
   "name": "python3"
  },
  "language_info": {
   "codemirror_mode": {
    "name": "ipython",
    "version": 3
   },
   "file_extension": ".py",
   "mimetype": "text/x-python",
   "name": "python",
   "nbconvert_exporter": "python",
   "pygments_lexer": "ipython3",
   "version": "3.10.11"
  }
 },
 "nbformat": 4,
 "nbformat_minor": 5
}
